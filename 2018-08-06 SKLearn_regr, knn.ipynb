{
 "cells": [
  {
   "cell_type": "markdown",
   "metadata": {},
   "source": [
    "# sklearn\n",
    "\n",
    "#### classification\n",
    "- regression (linear regression, logistic regression)\n",
    "- SVM, decision tree, neural nets, nearest neighbors\n",
    "\n",
    "#### clustering\n",
    "- k-means, hierarchical clustering\n",
    "\n",
    "#### model selection  - validate & choosing parameters & model\n",
    "- cross validation, metrics\n",
    "\n",
    "#### preprocessing\n",
    "- feature extraction\n",
    "- NumPy + Pandas\n",
    "\n",
    "#### dimensionality reduction\n",
    "- PCA, feature selection\n",
    "\n",
    "## Linear regression\n",
    "\n",
    "modeling between continuous dependent variable y & 1+ independent variable X  \n",
    "**sklearn.linear_model.LinearRegression(fit_intercept = True, normalize = False, copy_X = True, n_jobs = 1)**\n",
    "- fit_intercept : True(default) → calculate the intercept // False → no intercept (data already centered)\n",
    "- normalize : False(default / fit_intercept = False) → no normalization // True → L2 norm \n",
    "- copy_X : True (default) → calculate with the original input data // False → calculate with (X - μ)\n",
    "- n_jobs : 1 (default) // -1 → use all CPUs (# of CPUs for computation)"
   ]
  },
  {
   "cell_type": "code",
   "execution_count": 2,
   "metadata": {},
   "outputs": [],
   "source": [
    "from random import *\n",
    "import numpy as np\n",
    "from sklearn import linear_model, datasets, neighbors\n",
    "import matplotlib.pyplot as plt\n",
    "from matplotlib.colors import ListedColormap\n",
    "%matplotlib inline\n",
    "import pandas as pd"
   ]
  },
  {
   "cell_type": "code",
   "execution_count": 3,
   "metadata": {},
   "outputs": [
    {
     "name": "stdout",
     "output_type": "stream",
     "text": [
      "x: Python (10X1) 2D List  \n",
      " [[0], [1], [2], [3], [4], [5], [6], [7], [8], [9]]\n",
      "y: Python (10X1) 2D List  \n",
      " [[1.3061102876366504], [1.8252310879152178], [8.547560517569604], [5.426614391749974], [5.778430383313298], [9.141182136249666], [0.38990474226731964], [3.3359253997692564], [8.212868820623527], [7.756100442299729]]\n"
     ]
    },
    {
     "data": {
      "text/plain": [
       "[<matplotlib.lines.Line2D at 0x1f0dfa26fd0>]"
      ]
     },
     "execution_count": 3,
     "metadata": {},
     "output_type": "execute_result"
    },
    {
     "data": {
      "image/png": "[encoded data removed]",
      "text/plain": [
       "<Figure size 432x288 with 1 Axes>"
      ]
     },
     "metadata": {},
     "output_type": "display_data"
    }
   ],
   "source": [
    "# regr.fit(X, y) → both X and y need to be same length 2D structure\n",
    "# with Python 2D List\n",
    "\n",
    "length = 10\n",
    "x = []\n",
    "y = []\n",
    "for i in range(length):\n",
    "    x.append([i])\n",
    "    y.append([random()*10])\n",
    "print('x: Python (10X1) 2D List ', '\\n', x)\n",
    "print('y: Python (10X1) 2D List ', '\\n', y)\n",
    "\n",
    "regr = linear_model.LinearRegression()\n",
    "regr.fit(x, y)\n",
    "\n",
    "plt.scatter(x, y, color ='black')\n",
    "plt.plot(x, regr.predict(x), color = 'blue', linewidth = 3)\n",
    "# plt.show()"
   ]
  },
  {
   "cell_type": "code",
   "execution_count": 6,
   "metadata": {},
   "outputs": [
    {
     "name": "stdout",
     "output_type": "stream",
     "text": [
      "x: Numpy (10X1) 2D Array:  \n",
      " array( \n",
      " [[0]\n",
      " [1]\n",
      " [2]\n",
      " [3]\n",
      " [4]\n",
      " [5]\n",
      " [6]\n",
      " [7]\n",
      " [8]\n",
      " [9]] )\n",
      "y: Numpy (10X1) 2D Array:  \n",
      " array( \n",
      " [[8.55247204]\n",
      " [9.72299547]\n",
      " [9.99179936]\n",
      " [1.68297348]\n",
      " [5.14803736]\n",
      " [9.09797725]\n",
      " [5.49795459]\n",
      " [9.63339251]\n",
      " [5.98850283]\n",
      " [3.6622706 ]] )\n"
     ]
    },
    {
     "data": {
      "text/plain": [
       "[<matplotlib.lines.Line2D at 0x1f0dfd224a8>]"
      ]
     },
     "execution_count": 6,
     "metadata": {},
     "output_type": "execute_result"
    },
    {
     "data": {
      "image/png": "[encoded data removed]",
      "text/plain": [
       "<Figure size 432x288 with 1 Axes>"
      ]
     },
     "metadata": {},
     "output_type": "display_data"
    }
   ],
   "source": [
    "# with NumPy 2D array\n",
    "\n",
    "x = np.arange(length).reshape(-1, 1)\n",
    "y = np.array([random() * 10 for i in range(length)]).reshape(-1, 1)\n",
    "print('x: Numpy (10X1) 2D Array: ', '\\n', 'array(', '\\n', x, ')')\n",
    "print('y: Numpy (10X1) 2D Array: ', '\\n', 'array(', '\\n', y, ')')\n",
    "\n",
    "regr = linear_model.LinearRegression()\n",
    "regr.fit(x, y)\n",
    "\n",
    "plt.scatter(x, y, color ='black')\n",
    "plt.plot(x, regr.predict(x), color = 'blue', linewidth = 3)\n",
    "# plt.show()"
   ]
  },
  {
   "cell_type": "code",
   "execution_count": 21,
   "metadata": {},
   "outputs": [
    {
     "name": "stdout",
     "output_type": "stream",
     "text": [
      "xy_data : Numpy (10X2) 2D Array  \n",
      " array( \n",
      " [[0.         8.55247204]\n",
      " [1.         9.72299547]\n",
      " [2.         9.99179936]\n",
      " [3.         1.68297348]\n",
      " [4.         5.14803736]\n",
      " [5.         9.09797725]\n",
      " [6.         5.49795459]\n",
      " [7.         9.63339251]\n",
      " [8.         5.98850283]\n",
      " [9.         3.6622706 ]] )\n",
      "\n",
      "p_data : Pandas (10X2) DataFrame:  \n",
      "      x         y\n",
      "0  0.0  8.552472\n",
      "1  1.0  9.722995\n",
      "2  2.0  9.991799\n",
      "3  3.0  1.682973\n",
      "4  4.0  5.148037\n",
      "5  5.0  9.097977\n",
      "6  6.0  5.497955\n",
      "7  7.0  9.633393\n",
      "8  8.0  5.988503\n",
      "9  9.0  3.662271\n",
      "\n",
      "p_data.x : Pandas (10X1) DataFrame:  \n",
      " 0    0.0\n",
      "1    1.0\n",
      "2    2.0\n",
      "3    3.0\n",
      "4    4.0\n",
      "5    5.0\n",
      "6    6.0\n",
      "7    7.0\n",
      "8    8.0\n",
      "9    9.0\n",
      "Name: x, dtype: float64\n",
      "p_data.y : Pandas (10X1) DataFrame:  \n",
      " 0    8.552472\n",
      "1    9.722995\n",
      "2    9.991799\n",
      "3    1.682973\n",
      "4    5.148037\n",
      "5    9.097977\n",
      "6    5.497955\n",
      "7    9.633393\n",
      "8    5.988503\n",
      "9    3.662271\n",
      "Name: y, dtype: float64\n",
      "\n",
      "p_data.x.values : Numpy 1D Array:  \n",
      " array( \n",
      " [0. 1. 2. 3. 4. 5. 6. 7. 8. 9.] )\n",
      "p_data.y.values : Numpy 1D Array:  \n",
      " array( \n",
      " [8.55247204 9.72299547 9.99179936 1.68297348 5.14803736 9.09797725\n",
      " 5.49795459 9.63339251 5.98850283 3.6622706 ] )\n",
      "\n"
     ]
    },
    {
     "data": {
      "text/plain": [
       "[<matplotlib.lines.Line2D at 0x1f0e1f25630>]"
      ]
     },
     "execution_count": 21,
     "metadata": {},
     "output_type": "execute_result"
    },
    {
     "data": {
      "image/png": "[encoded data removed]",
      "text/plain": [
       "<Figure size 432x288 with 1 Axes>"
      ]
     },
     "metadata": {},
     "output_type": "display_data"
    }
   ],
   "source": [
    "# pandas DataFrame→ requires numpy 2D array\n",
    "\n",
    "xy_data = np.concatenate((x, y), axis = 1) # x and y same shape\n",
    "print('xy_data : Numpy (10X2) 2D Array ', '\\n', 'array(', '\\n', xy_data, ')')\n",
    "print()\n",
    "\n",
    "p_data = pd.DataFrame(data = xy_data, columns = ('x', 'y'))\n",
    "print('p_data : Pandas (10X2) DataFrame: ', '\\n', p_data)\n",
    "print()\n",
    "print('p_data.x : Pandas (10X1) DataFrame: ', '\\n', p_data.x)\n",
    "print('p_data.y : Pandas (10X1) DataFrame: ', '\\n', p_data.y)\n",
    "print()\n",
    "print('p_data.x.values : Numpy 1D Array: ', '\\n', 'array(', '\\n', p_data.x.values, ')')\n",
    "print('p_data.y.values : Numpy 1D Array: ', '\\n', 'array(', '\\n', p_data.y.values, ')')\n",
    "print()\n",
    "\n",
    "# for regr.fit() you cannot put in a series, but a 2D array\n",
    "x_regr = p_data.x.values.reshape(-1, 1)\n",
    "y_regr = p_data.y.values\n",
    "\n",
    "regr = linear_model.LinearRegression()\n",
    "regr.fit(x_regr, y_regr)\n",
    "\n",
    "plt.scatter(x_regr, y_regr, color = 'black')\n",
    "plt.plot(x_regr, regr.predict(x_regr), linewidth = 3)"
   ]
  },
  {
   "cell_type": "code",
   "execution_count": 13,
   "metadata": {
    "scrolled": true
   },
   "outputs": [
    {
     "data": {
      "text/plain": [
       "{'data': array([[ 0.03807591,  0.05068012,  0.06169621, ..., -0.00259226,\n",
       "          0.01990842, -0.01764613],\n",
       "        [-0.00188202, -0.04464164, -0.05147406, ..., -0.03949338,\n",
       "         -0.06832974, -0.09220405],\n",
       "        [ 0.08529891,  0.05068012,  0.04445121, ..., -0.00259226,\n",
       "          0.00286377, -0.02593034],\n",
       "        ...,\n",
       "        [ 0.04170844,  0.05068012, -0.01590626, ..., -0.01107952,\n",
       "         -0.04687948,  0.01549073],\n",
       "        [-0.04547248, -0.04464164,  0.03906215, ...,  0.02655962,\n",
       "          0.04452837, -0.02593034],\n",
       "        [-0.04547248, -0.04464164, -0.0730303 , ..., -0.03949338,\n",
       "         -0.00421986,  0.00306441]]),\n",
       " 'target': array([151.,  75., 141., 206., 135.,  97., 138.,  63., 110., 310., 101.,\n",
       "         69., 179., 185., 118., 171., 166., 144.,  97., 168.,  68.,  49.,\n",
       "         68., 245., 184., 202., 137.,  85., 131., 283., 129.,  59., 341.,\n",
       "         87.,  65., 102., 265., 276., 252.,  90., 100.,  55.,  61.,  92.,\n",
       "        259.,  53., 190., 142.,  75., 142., 155., 225.,  59., 104., 182.,\n",
       "        128.,  52.,  37., 170., 170.,  61., 144.,  52., 128.,  71., 163.,\n",
       "        150.,  97., 160., 178.,  48., 270., 202., 111.,  85.,  42., 170.,\n",
       "        200., 252., 113., 143.,  51.,  52., 210.,  65., 141.,  55., 134.,\n",
       "         42., 111.,  98., 164.,  48.,  96.,  90., 162., 150., 279.,  92.,\n",
       "         83., 128., 102., 302., 198.,  95.,  53., 134., 144., 232.,  81.,\n",
       "        104.,  59., 246., 297., 258., 229., 275., 281., 179., 200., 200.,\n",
       "        173., 180.,  84., 121., 161.,  99., 109., 115., 268., 274., 158.,\n",
       "        107.,  83., 103., 272.,  85., 280., 336., 281., 118., 317., 235.,\n",
       "         60., 174., 259., 178., 128.,  96., 126., 288.,  88., 292.,  71.,\n",
       "        197., 186.,  25.,  84.,  96., 195.,  53., 217., 172., 131., 214.,\n",
       "         59.,  70., 220., 268., 152.,  47.,  74., 295., 101., 151., 127.,\n",
       "        237., 225.,  81., 151., 107.,  64., 138., 185., 265., 101., 137.,\n",
       "        143., 141.,  79., 292., 178.,  91., 116.,  86., 122.,  72., 129.,\n",
       "        142.,  90., 158.,  39., 196., 222., 277.,  99., 196., 202., 155.,\n",
       "         77., 191.,  70.,  73.,  49.,  65., 263., 248., 296., 214., 185.,\n",
       "         78.,  93., 252., 150.,  77., 208.,  77., 108., 160.,  53., 220.,\n",
       "        154., 259.,  90., 246., 124.,  67.,  72., 257., 262., 275., 177.,\n",
       "         71.,  47., 187., 125.,  78.,  51., 258., 215., 303., 243.,  91.,\n",
       "        150., 310., 153., 346.,  63.,  89.,  50.,  39., 103., 308., 116.,\n",
       "        145.,  74.,  45., 115., 264.,  87., 202., 127., 182., 241.,  66.,\n",
       "         94., 283.,  64., 102., 200., 265.,  94., 230., 181., 156., 233.,\n",
       "         60., 219.,  80.,  68., 332., 248.,  84., 200.,  55.,  85.,  89.,\n",
       "         31., 129.,  83., 275.,  65., 198., 236., 253., 124.,  44., 172.,\n",
       "        114., 142., 109., 180., 144., 163., 147.,  97., 220., 190., 109.,\n",
       "        191., 122., 230., 242., 248., 249., 192., 131., 237.,  78., 135.,\n",
       "        244., 199., 270., 164.,  72.,  96., 306.,  91., 214.,  95., 216.,\n",
       "        263., 178., 113., 200., 139., 139.,  88., 148.,  88., 243.,  71.,\n",
       "         77., 109., 272.,  60.,  54., 221.,  90., 311., 281., 182., 321.,\n",
       "         58., 262., 206., 233., 242., 123., 167.,  63., 197.,  71., 168.,\n",
       "        140., 217., 121., 235., 245.,  40.,  52., 104., 132.,  88.,  69.,\n",
       "        219.,  72., 201., 110.,  51., 277.,  63., 118.,  69., 273., 258.,\n",
       "         43., 198., 242., 232., 175.,  93., 168., 275., 293., 281.,  72.,\n",
       "        140., 189., 181., 209., 136., 261., 113., 131., 174., 257.,  55.,\n",
       "         84.,  42., 146., 212., 233.,  91., 111., 152., 120.,  67., 310.,\n",
       "         94., 183.,  66., 173.,  72.,  49.,  64.,  48., 178., 104., 132.,\n",
       "        220.,  57.]),\n",
       " 'DESCR': 'Diabetes dataset\\n================\\n\\nNotes\\n-----\\n\\nTen baseline variables, age, sex, body mass index, average blood\\npressure, and six blood serum measurements were obtained for each of n =\\n442 diabetes patients, as well as the response of interest, a\\nquantitative measure of disease progression one year after baseline.\\n\\nData Set Characteristics:\\n\\n  :Number of Instances: 442\\n\\n  :Number of Attributes: First 10 columns are numeric predictive values\\n\\n  :Target: Column 11 is a quantitative measure of disease progression one year after baseline\\n\\n  :Attributes:\\n    :Age:\\n    :Sex:\\n    :Body mass index:\\n    :Average blood pressure:\\n    :S1:\\n    :S2:\\n    :S3:\\n    :S4:\\n    :S5:\\n    :S6:\\n\\nNote: Each of these 10 feature variables have been mean centered and scaled by the standard deviation times `n_samples` (i.e. the sum of squares of each column totals 1).\\n\\nSource URL:\\nhttp://www4.stat.ncsu.edu/~boos/var.select/diabetes.html\\n\\nFor more information see:\\nBradley Efron, Trevor Hastie, Iain Johnstone and Robert Tibshirani (2004) \"Least Angle Regression,\" Annals of Statistics (with discussion), 407-499.\\n(http://web.stanford.edu/~hastie/Papers/LARS/LeastAngle_2002.pdf)\\n',\n",
       " 'feature_names': ['age',\n",
       "  'sex',\n",
       "  'bmi',\n",
       "  'bp',\n",
       "  's1',\n",
       "  's2',\n",
       "  's3',\n",
       "  's4',\n",
       "  's5',\n",
       "  's6']}"
      ]
     },
     "execution_count": 13,
     "metadata": {},
     "output_type": "execute_result"
    }
   ],
   "source": [
    "# load the diabetes dataset\n",
    "diabetes = datasets.load_diabetes()\n",
    "diabetes"
   ]
  },
  {
   "cell_type": "code",
   "execution_count": 30,
   "metadata": {},
   "outputs": [
    {
     "data": {
      "text/plain": [
       "array([[ 0.0612233 ],\n",
       "       [-0.05194697],\n",
       "       [ 0.04397831],\n",
       "       [-0.01206792],\n",
       "       [-0.0368576 ],\n",
       "       [-0.04116885],\n",
       "       [-0.04763572],\n",
       "       [-0.00236761],\n",
       "       [ 0.0612233 ],\n",
       "       [ 0.03858925],\n",
       "       [-0.08428133],\n",
       "       [ 0.01703301],\n",
       "       [-0.02931291],\n",
       "       [-0.00236761],\n",
       "       [-0.02607948],\n",
       "       [-0.01853479],\n",
       "       [ 0.04182268],\n",
       "       [ 0.01164395],\n",
       "       [-0.01099011],\n",
       "       [-0.01853479],\n",
       "       [-0.05733603],\n",
       "       [-0.02284604],\n",
       "       [-0.00452324],\n",
       "       [ 0.06014549],\n",
       "       [ 0.03535581],\n",
       "       [-0.01314573],\n",
       "       [-0.07781446],\n",
       "       [ 0.05906768],\n",
       "       [-0.02176823],\n",
       "       [-0.00667886],\n",
       "       [ 0.04397831],\n",
       "       [-0.06595852],\n",
       "       [ 0.12481421],\n",
       "       [-0.05086915],\n",
       "       [-0.0638029 ],\n",
       "       [-0.03146854],\n",
       "       [ 0.02242207],\n",
       "       [ 0.01056613],\n",
       "       [ 0.07092361],\n",
       "       [ 0.01379957],\n",
       "       [-0.00883448],\n",
       "       [-0.06811415],\n",
       "       [-0.01099011],\n",
       "       [-0.02392385],\n",
       "       [ 0.06769017],\n",
       "       [-0.03577979],\n",
       "       [-0.01206792],\n",
       "       [-0.07350321],\n",
       "       [-0.04224666],\n",
       "       [ 0.01379957],\n",
       "       [-0.00775667],\n",
       "       [ 0.01595519],\n",
       "       [-0.0099123 ],\n",
       "       [-0.01637917],\n",
       "       [ 0.02457769],\n",
       "       [-0.04979134],\n",
       "       [ 0.04074487],\n",
       "       [-0.0638029 ],\n",
       "       [-0.06488071],\n",
       "       [-0.02607948],\n",
       "       [-0.00452324],\n",
       "       [ 0.00409926],\n",
       "       [-0.00775667],\n",
       "       [-0.03793541],\n",
       "       [-0.02607948],\n",
       "       [-0.02500166],\n",
       "       [-0.01853479],\n",
       "       [-0.01530136],\n",
       "       [-0.03039072],\n",
       "       [-0.04655791],\n",
       "       [-0.07026977],\n",
       "       [ 0.03320019],\n",
       "       [-0.00452324],\n",
       "       [-0.02069042],\n",
       "       [ 0.00194364],\n",
       "       [-0.03146854],\n",
       "       [ 0.02781113],\n",
       "       [-0.0368576 ],\n",
       "       [-0.05841384],\n",
       "       [-0.03793541],\n",
       "       [ 0.01164395],\n",
       "       [-0.02284604],\n",
       "       [-0.03577979],\n",
       "       [ 0.00948832],\n",
       "       [-0.04009103],\n",
       "       [ 0.07092361],\n",
       "       [-0.07565883],\n",
       "       [-0.00667886],\n",
       "       [-0.04116885],\n",
       "       [-0.04871353],\n",
       "       [-0.02607948],\n",
       "       [ 0.05152299],\n",
       "       [ 0.00409926],\n",
       "       [-0.06488071],\n",
       "       [-0.01745698],\n",
       "       [-0.05841384],\n",
       "       [ 0.00948832],\n",
       "       [ 0.0881686 ],\n",
       "       [-0.00560105],\n",
       "       [-0.06488071],\n",
       "       [ 0.01703301],\n",
       "       [-0.04548009],\n",
       "       [ 0.02781113],\n",
       "       [ 0.04074487],\n",
       "       [ 0.06445674],\n",
       "       [-0.03254635],\n",
       "       [-0.07673664],\n",
       "       [ 0.04936737],\n",
       "       [ 0.04505612],\n",
       "       [-0.0099123 ],\n",
       "       [-0.03254635],\n",
       "       [ 0.00409926],\n",
       "       [ 0.02026644],\n",
       "       [ 0.01379957],\n",
       "       [ 0.10972484],\n",
       "       [ 0.00086583],\n",
       "       [ 0.05798987],\n",
       "       [-0.02176823],\n",
       "       [-0.01099011],\n",
       "       [-0.04763572],\n",
       "       [ 0.00409926],\n",
       "       [ 0.01703301],\n",
       "       [ 0.08062392],\n",
       "       [ 0.034278  ],\n",
       "       [ 0.02349988],\n",
       "       [-0.00883448],\n",
       "       [-0.06164727],\n",
       "       [-0.00236761],\n",
       "       [-0.06272509],\n",
       "       [ 0.01595519],\n",
       "       [ 0.09571329],\n",
       "       [-0.07026977],\n",
       "       [-0.02176823],\n",
       "       [-0.05410259],\n",
       "       [ 0.0429005 ],\n",
       "       [ 0.05583424],\n",
       "       [-0.0821257 ],\n",
       "       [ 0.04936737],\n",
       "       [ 0.11080266],\n",
       "       [ 0.0612233 ],\n",
       "       [ 0.01379957],\n",
       "       [ 0.04721174],\n",
       "       [ 0.01164395],\n",
       "       [ 0.00517707],\n",
       "       [ 0.04613393],\n",
       "       [ 0.12804765],\n",
       "       [ 0.05906768],\n",
       "       [ 0.09247985],\n",
       "       [ 0.01487738],\n",
       "       [-0.00560105],\n",
       "       [ 0.0698458 ],\n",
       "       [-0.00452324],\n",
       "       [-0.0012898 ],\n",
       "       [-0.04440228],\n",
       "       [ 0.02026644],\n",
       "       [ 0.06014549],\n",
       "       [-0.01099011],\n",
       "       [-0.03362416],\n",
       "       [-0.06595852],\n",
       "       [ 0.0429005 ],\n",
       "       [-0.06272509],\n",
       "       [ 0.06337893],\n",
       "       [ 0.02996675],\n",
       "       [ 0.07200142],\n",
       "       [-0.0196126 ],\n",
       "       [-0.06703634],\n",
       "       [-0.06056946],\n",
       "       [ 0.06876799],\n",
       "       [ 0.05906768],\n",
       "       [-0.02715729],\n",
       "       [-0.02069042],\n",
       "       [-0.04655791],\n",
       "       [ 0.07092361],\n",
       "       [-0.07997008],\n",
       "       [ 0.00948832],\n",
       "       [-0.03901322],\n",
       "       [ 0.01918863],\n",
       "       [ 0.02673332],\n",
       "       [-0.00883448],\n",
       "       [-0.01637917],\n",
       "       [ 0.00409926],\n",
       "       [-0.04332447],\n",
       "       [ 0.00517707],\n",
       "       [-0.03577979],\n",
       "       [ 0.02349988],\n",
       "       [-0.01853479],\n",
       "       [ 0.04182268],\n",
       "       [-0.0551804 ],\n",
       "       [-0.00344542],\n",
       "       [-0.06703634],\n",
       "       [-0.01314573],\n",
       "       [-0.04224666],\n",
       "       [-0.03146854],\n",
       "       [-0.00560105],\n",
       "       [-0.05949165],\n",
       "       [ 0.02457769],\n",
       "       [-0.04655791],\n",
       "       [ 0.00302145],\n",
       "       [ 0.05367862],\n",
       "       [-0.04548009],\n",
       "       [-0.05841384],\n",
       "       [-0.05625821],\n",
       "       [ 0.00086583],\n",
       "       [ 0.02996675],\n",
       "       [ 0.00625489],\n",
       "       [ 0.04613393],\n",
       "       [ 0.0256555 ],\n",
       "       [ 0.04505612],\n",
       "       [ 0.03966706],\n",
       "       [-0.01853479],\n",
       "       [ 0.01379957],\n",
       "       [ 0.03643362],\n",
       "       [ 0.00302145],\n",
       "       [-0.07134758],\n",
       "       [-0.03362416],\n",
       "       [ 0.09355766],\n",
       "       [ 0.03535581],\n",
       "       [ 0.03104456],\n",
       "       [-0.06595852],\n",
       "       [-0.04224666],\n",
       "       [-0.04009103],\n",
       "       [-0.03901322],\n",
       "       [-0.02607948],\n",
       "       [-0.02392385],\n",
       "       [-0.06703634],\n",
       "       [ 0.03212238],\n",
       "       [-0.04655791],\n",
       "       [-0.03039072],\n",
       "       [-0.01314573],\n",
       "       [-0.01637917],\n",
       "       [ 0.07092361],\n",
       "       [-0.03146854],\n",
       "       [-0.00021199],\n",
       "       [ 0.03643362],\n",
       "       [ 0.03858925],\n",
       "       [-0.01530136],\n",
       "       [ 0.00625489],\n",
       "       [-0.06919196],\n",
       "       [-0.0099123 ],\n",
       "       [ 0.01918863],\n",
       "       [ 0.07415705],\n",
       "       [-0.00883448],\n",
       "       [-0.02392385],\n",
       "       [-0.04655791],\n",
       "       [ 0.05367862],\n",
       "       [-0.03577979],\n",
       "       [-0.03254635],\n",
       "       [-0.0821257 ],\n",
       "       [ 0.04721174],\n",
       "       [ 0.06014549],\n",
       "       [ 0.05583424],\n",
       "       [ 0.09786891],\n",
       "       [ 0.05906768],\n",
       "       [ 0.03320019],\n",
       "       [ 0.05583424],\n",
       "       [-0.06595852],\n",
       "       [ 0.16038201],\n",
       "       [-0.05625821],\n",
       "       [-0.02500166],\n",
       "       [-0.0368576 ],\n",
       "       [-0.00883448],\n",
       "       [-0.04224666],\n",
       "       [ 0.12696984],\n",
       "       [-0.07781446],\n",
       "       [ 0.02781113],\n",
       "       [-0.02607948],\n",
       "       [-0.06272509],\n",
       "       [-0.0012898 ],\n",
       "       [ 0.0881686 ],\n",
       "       [-0.03254635],\n",
       "       [ 0.02996675],\n",
       "       [ 0.00841051],\n",
       "       [ 0.00625489],\n",
       "       [-0.02069042],\n",
       "       [-0.02500166],\n",
       "       [-0.01206792],\n",
       "       [ 0.0256555 ],\n",
       "       [-0.05949165],\n",
       "       [-0.0368576 ],\n",
       "       [-0.02500166],\n",
       "       [ 0.01811082],\n",
       "       [-0.0907482 ],\n",
       "       [-0.00560105],\n",
       "       [-0.05302478],\n",
       "       [-0.02284604],\n",
       "       [-0.02069042],\n",
       "       [-0.0551804 ],\n",
       "       [-0.00667886],\n",
       "       [-0.01745698],\n",
       "       [ 0.05475643],\n",
       "       [ 0.07631267],\n",
       "       [ 0.01811082],\n",
       "       [-0.02284604],\n",
       "       [ 0.09247985],\n",
       "       [-0.03146854],\n",
       "       [ 0.03858925],\n",
       "       [-0.06164727],\n",
       "       [-0.00883448],\n",
       "       [-0.03793541],\n",
       "       [-0.01422354],\n",
       "       [ 0.07307923],\n",
       "       [-0.02500166],\n",
       "       [ 0.03320019],\n",
       "       [ 0.034278  ],\n",
       "       [-0.03901322],\n",
       "       [-0.04009103],\n",
       "       [-0.00236761],\n",
       "       [-0.03146854],\n",
       "       [-0.04655791],\n",
       "       [ 0.00086583],\n",
       "       [ 0.06445674],\n",
       "       [ 0.03966706],\n",
       "       [-0.02392385],\n",
       "       [ 0.0526008 ],\n",
       "       [ 0.03966706],\n",
       "       [-0.02069042],\n",
       "       [ 0.01379957],\n",
       "       [-0.03470197],\n",
       "       [ 0.00625489],\n",
       "       [ 0.00409926],\n",
       "       [ 0.02996675],\n",
       "       [ 0.05152299],\n",
       "       [ 0.0612233 ],\n",
       "       [-0.00775667],\n",
       "       [ 0.00517707],\n",
       "       [ 0.05367862],\n",
       "       [-0.00883448],\n",
       "       [ 0.11403609],\n",
       "       [ 0.06661236],\n",
       "       [-0.05625821],\n",
       "       [ 0.02996675],\n",
       "       [-0.02607948],\n",
       "       [ 0.10433578],\n",
       "       [-0.00667886],\n",
       "       [-0.04763572],\n",
       "       [-0.04871353],\n",
       "       [ 0.08493517],\n",
       "       [-0.01314573],\n",
       "       [-0.03362416],\n",
       "       [-0.00775667],\n",
       "       [-0.01422354],\n",
       "       [ 0.05906768],\n",
       "       [ 0.02134425],\n",
       "       [ 0.01811082],\n",
       "       [-0.01206792],\n",
       "       [-0.00344542],\n",
       "       [ 0.01703301],\n",
       "       [-0.03039072],\n",
       "       [-0.02069042],\n",
       "       [-0.05841384],\n",
       "       [ 0.06014549],\n",
       "       [-0.04116885],\n",
       "       [-0.0724254 ],\n",
       "       [-0.05625821],\n",
       "       [ 0.04505612],\n",
       "       [-0.0099123 ],\n",
       "       [-0.03362416],\n",
       "       [ 0.04936737],\n",
       "       [-0.08535914],\n",
       "       [ 0.00517707],\n",
       "       [ 0.02026644],\n",
       "       [-0.00775667],\n",
       "       [ 0.10433578],\n",
       "       [-0.02500166],\n",
       "       [-0.00667886],\n",
       "       [-0.03901322],\n",
       "       [ 0.13667015],\n",
       "       [ 0.17008232],\n",
       "       [ 0.00194364],\n",
       "       [ 0.03751144],\n",
       "       [-0.05841384],\n",
       "       [-0.0099123 ],\n",
       "       [-0.02392385],\n",
       "       [-0.01099011],\n",
       "       [-0.03470197],\n",
       "       [-0.00344542],\n",
       "       [ 0.06769017],\n",
       "       [ 0.00948832],\n",
       "       [ 0.00194364],\n",
       "       [-0.03901322],\n",
       "       [ 0.0256555 ],\n",
       "       [-0.08967039],\n",
       "       [ 0.06014549],\n",
       "       [-0.02931291],\n",
       "       [-0.03039072],\n",
       "       [-0.0196126 ],\n",
       "       [-0.04116885],\n",
       "       [ 0.01487738],\n",
       "       [-0.02500166],\n",
       "       [ 0.00086583],\n",
       "       [ 0.06876799],\n",
       "       [-0.07026977],\n",
       "       [-0.03039072],\n",
       "       [-0.04655791],\n",
       "       [ 0.01811082],\n",
       "       [ 0.00086583],\n",
       "       [-0.03146854],\n",
       "       [-0.00452324],\n",
       "       [ 0.01487738],\n",
       "       [ 0.02242207],\n",
       "       [ 0.04505612],\n",
       "       [-0.04548009],\n",
       "       [-0.03362416],\n",
       "       [ 0.0967911 ],\n",
       "       [ 0.05367862],\n",
       "       [ 0.12265859],\n",
       "       [-0.08104789],\n",
       "       [ 0.09247985],\n",
       "       [-0.05086915],\n",
       "       [-0.01206792],\n",
       "       [-0.0282351 ],\n",
       "       [ 0.05798987],\n",
       "       [ 0.08493517],\n",
       "       [-0.0012898 ],\n",
       "       [ 0.00625489],\n",
       "       [ 0.00841051],\n",
       "       [ 0.07954611],\n",
       "       [ 0.07092361],\n",
       "       [-0.02500166],\n",
       "       [-0.0551804 ],\n",
       "       [-0.0368576 ],\n",
       "       [ 0.01595519],\n",
       "       [ 0.07786339],\n",
       "       [-0.03961813],\n",
       "       [ 0.01103904],\n",
       "       [-0.04069594],\n",
       "       [-0.03422907],\n",
       "       [ 0.00564998],\n",
       "       [ 0.08864151],\n",
       "       [-0.03315126],\n",
       "       [-0.05686312],\n",
       "       [-0.03099563],\n",
       "       [ 0.05522933],\n",
       "       [-0.06009656],\n",
       "       [ 0.00133873],\n",
       "       [-0.02345095],\n",
       "       [-0.07410811],\n",
       "       [ 0.01966154],\n",
       "       [-0.01590626],\n",
       "       [-0.01590626],\n",
       "       [ 0.03906215],\n",
       "       [-0.0730303 ]])"
      ]
     },
     "execution_count": 30,
     "metadata": {},
     "output_type": "execute_result"
    }
   ],
   "source": [
    "# use only one feature\n",
    "diabetes_X = diabetes.data[:,  np.newaxis, 2]\n",
    "diabetes_X"
   ]
  },
  {
   "cell_type": "code",
   "execution_count": 31,
   "metadata": {},
   "outputs": [],
   "source": [
    "# Split the data into training/testing sets\n",
    "diabetes_X_train = diabetes_X[:-20]\n",
    "diabetes_X_test = diabetes_X[-20:]\n",
    "\n",
    "# Split the targets into training/testing sets\n",
    "diabetes_y_train = diabetes.target[:-20]\n",
    "diabetes_y_test = diabetes.target[-20:]"
   ]
  },
  {
   "cell_type": "code",
   "execution_count": 32,
   "metadata": {},
   "outputs": [
    {
     "data": {
      "text/plain": [
       "LinearRegression(copy_X=0, fit_intercept=True, n_jobs=1, normalize=False)"
      ]
     },
     "execution_count": 32,
     "metadata": {},
     "output_type": "execute_result"
    }
   ],
   "source": [
    "# Create linear regression object\n",
    "regr = linear_model.LinearRegression(copy_X = 0)\n",
    "\n",
    "# Train the model using the training sets\n",
    "regr.fit(diabetes_X_train, diabetes_y_train)\n",
    "\n",
    "regr"
   ]
  },
  {
   "cell_type": "markdown",
   "metadata": {},
   "source": [
    "**regr.fit(X, y, sample_weight = None)**\n",
    "- X :  2D\n",
    "- y : 1D\n",
    "- sample_weight : ?"
   ]
  },
  {
   "cell_type": "code",
   "execution_count": 33,
   "metadata": {},
   "outputs": [
    {
     "name": "stdout",
     "output_type": "stream",
     "text": [
      "Coefficients : \n",
      " [938.23786125]\n",
      "Intercept: \n",
      " 153.36255924170615\n",
      "Mean squared error: 2563.67\n",
      "Variance score: 0.47\n"
     ]
    }
   ],
   "source": [
    "# The coefficients\n",
    "print('Coefficients : \\n', regr.coef_)\n",
    "\n",
    "# The intercept\n",
    "print('Intercept: \\n', regr.intercept_)\n",
    "\n",
    "# The mean squared error\n",
    "print('Mean squared error: %.2f' % np.mean((regr.predict(diabetes_X_test)- diabetes_y_test) ** 2))\n",
    "# Explained variance score: 1 is the perfect prediction\n",
    "print('Variance score: %.2f' % regr.score(diabetes_X_test, diabetes_y_test))"
   ]
  },
  {
   "cell_type": "code",
   "execution_count": 34,
   "metadata": {},
   "outputs": [
    {
     "data": {
      "text/plain": [
       "[<matplotlib.lines.Line2D at 0x1f0e1cdea58>]"
      ]
     },
     "execution_count": 34,
     "metadata": {},
     "output_type": "execute_result"
    },
    {
     "data": {
      "image/png": "[encoded data removed]",
      "text/plain": [
       "<Figure size 432x288 with 1 Axes>"
      ]
     },
     "metadata": {},
     "output_type": "display_data"
    }
   ],
   "source": [
    "# Plot outputs\n",
    "plt.scatter(diabetes_X_test, diabetes_y_test, color = 'black')\n",
    "plt.plot(diabetes_X_test, regr.predict(diabetes_X_test), color = 'blue')"
   ]
  },
  {
   "cell_type": "markdown",
   "metadata": {},
   "source": [
    "## K-Nearest Neighbors (KNN) Classifier\n",
    "\n",
    "- assume that similar data will be located closely\n",
    "- determine the new data based on k closest data (the class of the majority of the k closest data = the class of the new data)\n",
    "- no model, only data is used\n",
    "- various distance metrics: Euclidean, Manhattan, Mahalanobis distance (optimal)\n",
    "- DISTANCE vs. COUNT  \n",
    "  \n",
    "**from sklearn import neighbors**\n",
    "  \n",
    "**sklearn.neighbors.KNeighborsClassifier(****kwargs)\n",
    "- n_neighbors(5): # of neighbors to use\n",
    "- weights: {uniform (default), distance, user-defined-function} weight function for prediction\n",
    "- Algorithm: algorithm to compute nearest neighbors {auto, ball_tree, kd_tree, brute}\n",
    "- leaf_size: leaf size for ball/KD tree\n",
    "- Metric(minkowski): distance metric\n",
    "- p: power parameter for minkowski metric // 1 → L1, 2 → L2, n → Ln\n",
    "- n_jobs"
   ]
  },
  {
   "cell_type": "code",
   "execution_count": 3,
   "metadata": {},
   "outputs": [],
   "source": [
    "# determine the value of k\n",
    "n_neighbors = 15\n",
    "\n",
    "# import some data to play with \n",
    "iris = datasets.load_iris()\n",
    "X = iris.data[:, :2] # we only take the first two features. We could avoid this ugly slicing by using a two-dim dataset\n",
    "y = iris.target\n",
    "\n",
    "h = .02 # step size in the mesh"
   ]
  },
  {
   "cell_type": "code",
   "execution_count": 4,
   "metadata": {},
   "outputs": [],
   "source": [
    "# Create color maps\n",
    "cmap_light = ListedColormap(['#FFAAAA', '#AAFFAA', '#AAAAFF'])\n",
    "cmap_bold = ListedColormap(['#FF0000', '#00FF00', '#0000FF'])"
   ]
  },
  {
   "cell_type": "code",
   "execution_count": 5,
   "metadata": {},
   "outputs": [
    {
     "data": {
      "text/plain": [
       "KNeighborsClassifier(algorithm='auto', leaf_size=30, metric='minkowski',\n",
       "           metric_params=None, n_jobs=1, n_neighbors=15, p=2,\n",
       "           weights='uniform')"
      ]
     },
     "execution_count": 5,
     "metadata": {},
     "output_type": "execute_result"
    }
   ],
   "source": [
    "# We create an instance of Neighbors Classifier anad fit the data\n",
    "clf = neighbors.KNeighborsClassifier(n_neighbors, weights = 'uniform')\n",
    "clf.fit(X, y)\n",
    "\n",
    "clf"
   ]
  },
  {
   "cell_type": "code",
   "execution_count": 6,
   "metadata": {},
   "outputs": [
    {
     "data": {
      "text/plain": [
       "array([0])"
      ]
     },
     "execution_count": 6,
     "metadata": {},
     "output_type": "execute_result"
    }
   ],
   "source": [
    "new_point = np.array([[3.7, 4.5]])\n",
    "iris_class = clf.predict(new_point)\n",
    "\n",
    "iris_class"
   ]
  },
  {
   "cell_type": "code",
   "execution_count": 7,
   "metadata": {},
   "outputs": [
    {
     "data": {
      "text/plain": [
       "<matplotlib.collections.PathCollection at 0x28ec893afd0>"
      ]
     },
     "execution_count": 7,
     "metadata": {},
     "output_type": "execute_result"
    },
    {
     "data": {
      "image/png": "[encoded data removed]",
      "text/plain": [
       "<Figure size 432x288 with 1 Axes>"
      ]
     },
     "metadata": {},
     "output_type": "display_data"
    }
   ],
   "source": [
    "plt.scatter(X[:, 0], X[:,1], c = y, cmap = cmap_bold)"
   ]
  },
  {
   "cell_type": "code",
   "execution_count": 8,
   "metadata": {},
   "outputs": [
    {
     "data": {
      "text/plain": [
       "(3.3, 8.9, 1.0, 5.4)"
      ]
     },
     "execution_count": 8,
     "metadata": {},
     "output_type": "execute_result"
    }
   ],
   "source": [
    "# Plot the decision boundary\n",
    "x_min, x_max = X[:, 0].min() - 1, X[:, 0].max() + 1\n",
    "y_min, y_max = X[:, 1].min() - 1, X[:, 1].max() + 1\n",
    "\n",
    "x_min, x_max, y_min, y_max"
   ]
  },
  {
   "cell_type": "code",
   "execution_count": 9,
   "metadata": {},
   "outputs": [
    {
     "data": {
      "text/plain": [
       "(array([[3.3 , 3.32, 3.34, 3.36, 3.38],\n",
       "        [3.3 , 3.32, 3.34, 3.36, 3.38]]),\n",
       " (220, 280),\n",
       " array([[1.  , 1.  , 1.  , 1.  , 1.  ],\n",
       "        [1.02, 1.02, 1.02, 1.02, 1.02]]),\n",
       " (220, 280))"
      ]
     },
     "execution_count": 9,
     "metadata": {},
     "output_type": "execute_result"
    }
   ],
   "source": [
    "# Assign a color to each point in the mesh [x_min, x_max] x [y_min, y_max]\n",
    "xx, yy = np.meshgrid(np.arange(x_min, x_max, h), np.arange(y_min, y_max, h))\n",
    "xx[:2, :5], xx.shape, yy[:2, :5], yy.shape"
   ]
  },
  {
   "cell_type": "code",
   "execution_count": 11,
   "metadata": {},
   "outputs": [
    {
     "data": {
      "text/plain": [
       "(array([3.3 , 3.32, 3.34, ..., 8.84, 8.86, 8.88]),\n",
       " (61600,),\n",
       " array([1.  , 1.  , 1.  , ..., 5.38, 5.38, 5.38]),\n",
       " (61600,))"
      ]
     },
     "execution_count": 11,
     "metadata": {},
     "output_type": "execute_result"
    }
   ],
   "source": [
    "xr = xx.ravel()\n",
    "yr = yy.ravel()\n",
    "\n",
    "xr, xr.shape, yr, yr.shape"
   ]
  },
  {
   "cell_type": "code",
   "execution_count": 12,
   "metadata": {},
   "outputs": [
    {
     "data": {
      "text/plain": [
       "(array([[3.3 , 1.  ],\n",
       "        [3.32, 1.  ],\n",
       "        [3.34, 1.  ],\n",
       "        ...,\n",
       "        [8.84, 5.38],\n",
       "        [8.86, 5.38],\n",
       "        [8.88, 5.38]]), (61600, 2))"
      ]
     },
     "execution_count": 12,
     "metadata": {},
     "output_type": "execute_result"
    }
   ],
   "source": [
    "# np.c_[x, y] same as np.concatenate(x, y)\n",
    "xy = np.c_[xr, yr]\n",
    "xy, xy.shape"
   ]
  },
  {
   "cell_type": "code",
   "execution_count": 14,
   "metadata": {},
   "outputs": [
    {
     "data": {
      "text/plain": [
       "array([[1, 4],\n",
       "       [2, 5],\n",
       "       [3, 6]])"
      ]
     },
     "execution_count": 14,
     "metadata": {},
     "output_type": "execute_result"
    }
   ],
   "source": [
    "np.c_[np.array([1, 2, 3]), np.array([4, 5, 6])]"
   ]
  },
  {
   "cell_type": "code",
   "execution_count": 13,
   "metadata": {},
   "outputs": [
    {
     "name": "stdout",
     "output_type": "stream",
     "text": [
      "[[0 0 0 ... 2 2 2]\n",
      " [0 0 0 ... 2 2 2]\n",
      " [0 0 0 ... 2 2 2]\n",
      " ...\n",
      " [0 0 0 ... 2 2 2]\n",
      " [0 0 0 ... 2 2 2]\n",
      " [0 0 0 ... 2 2 2]] (220, 280)\n"
     ]
    },
    {
     "data": {
      "text/plain": [
       "<matplotlib.collections.QuadMesh at 0x28ec867c080>"
      ]
     },
     "execution_count": 13,
     "metadata": {},
     "output_type": "execute_result"
    },
    {
     "data": {
      "image/png": "[encoded data removed]",
      "text/plain": [
       "<Figure size 432x288 with 1 Axes>"
      ]
     },
     "metadata": {},
     "output_type": "display_data"
    }
   ],
   "source": [
    "Z = clf.predict(xy).reshape(xx.shape)\n",
    "print(Z, Z.shape)\n",
    "plt.pcolormesh(xx, yy, Z, cmap = cmap_light)"
   ]
  },
  {
   "cell_type": "markdown",
   "metadata": {},
   "source": [
    "pcolormesh(C)  \n",
    "pcolormesh(X, Y, Z)  \n",
    "\n",
    "returns: matplotlib.collections.QuadMesh  \n",
    "x : x axis // y : y axis // z : class  \n",
    "\\*\\*kwarg ->  cmap (Colormap) # cmap_light = ListedColormap(['color', 'color', 'in #FFFFFF rgb'])\n"
   ]
  },
  {
   "cell_type": "code",
   "execution_count": 53,
   "metadata": {},
   "outputs": [
    {
     "data": {
      "text/plain": [
       "Text(0.5,1,'3-Class Classification (k = 15, weights = \"uniform\")')"
      ]
     },
     "execution_count": 53,
     "metadata": {},
     "output_type": "execute_result"
    },
    {
     "data": {
      "image/png": "[encoded data removed]",
      "text/plain": [
       "<Figure size 432x288 with 1 Axes>"
      ]
     },
     "metadata": {},
     "output_type": "display_data"
    }
   ],
   "source": [
    "plt.pcolormesh(xx, yy, Z, cmap = cmap_light)\n",
    "plt.scatter(X[:, 0], X[:,1], c = y, cmap = cmap_bold)\n",
    "plt.xlim(xx.min(), xx.max())\n",
    "plt.ylim(yy.min(), yy.max())\n",
    "plt.title('3-Class Classification (k = %i, weights = \"uniform\")' % (n_neighbors))"
   ]
  }
 ],
 "metadata": {
  "kernelspec": {
   "display_name": "Python 3",
   "language": "python",
   "name": "python3"
  },
  "language_info": {
   "codemirror_mode": {
    "name": "ipython",
    "version": 3
   },
   "file_extension": ".py",
   "mimetype": "text/x-python",
   "name": "python",
   "nbconvert_exporter": "python",
   "pygments_lexer": "ipython3",
   "version": "3.6.5"
  }
 },
 "nbformat": 4,
 "nbformat_minor": 2
}
