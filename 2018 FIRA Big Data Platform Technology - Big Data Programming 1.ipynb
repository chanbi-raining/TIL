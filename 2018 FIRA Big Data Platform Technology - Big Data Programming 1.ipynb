{
 "cells": [
  {
   "cell_type": "code",
   "execution_count": 1,
   "metadata": {
    "collapsed": true
   },
   "outputs": [],
   "source": [
    "# What is programming?\n",
    "\n",
    "# 1. The real world problem → 2. Abstract Problem → 3. Problem representation \n",
    "# → 4. Solve the problem with Algorithm based on Computational thinking\n",
    "\n",
    "# Data Types\n",
    "\n",
    "# Basic: integer, float, boolean, char/string\n",
    "# Advanced: list, tuple, dictionary, set\n",
    "# list = [3, 4, 5], tuple = (3, 4, 5), set = {3, 4, 5}\n",
    "# User-defined (Classes)\n",
    "# Library\n",
    "\n",
    "# Waterfall SW Development Model\n",
    "\n",
    "# Requirements / Analysis / Design / Programming / Ingegration / Testing\n",
    "# OOP's primary concern = Analysis & Design\n",
    "# Control Oriented Programing's primary concern = Programming & Integration\n",
    "\n",
    "# Programming languages\n",
    "\n",
    "# composed with basic grammar + libraries\n",
    "# Compiled programs: run faster & more accurate (i.e. C & Java) VS Interpreted programs: more portable & flexible (i.e. Python)\n",
    "# IDE (Interpreted Development Environment) = UI added to help the programmers"
   ]
  },
  {
   "cell_type": "code",
   "execution_count": 2,
   "metadata": {
    "collapsed": true
   },
   "outputs": [],
   "source": [
    "# Ch2: Python Tutorial\n",
    "\n",
    "def convert():\n",
    "\tcelsius = eval(input(\"What is the Celsius temperature? \"))\n",
    "\tfahrenheit = (9/5) * celsius + 32\n",
    "\tprint(\"The temperatuer is \", fahrenheit, \" degrees Fahrenheit.\")\n",
    "    \n",
    "# the type of input value is string - thus in need of eval to calculate\n",
    "# eval converts string into integer"
   ]
  },
  {
   "cell_type": "code",
   "execution_count": 3,
   "metadata": {
    "collapsed": false
   },
   "outputs": [
    {
     "name": "stdout",
     "output_type": "stream",
     "text": [
      "What is the Celsius temperature? 0\n",
      "The temperatuer is  32.0  degrees Fahrenheit.\n"
     ]
    }
   ],
   "source": [
    "convert()"
   ]
  },
  {
   "cell_type": "code",
   "execution_count": 4,
   "metadata": {
    "collapsed": false
   },
   "outputs": [
    {
     "name": "stdout",
     "output_type": "stream",
     "text": [
      "What is the Celsius temperature? 100\n",
      "The temperatuer is  212.0  degrees Fahrenheit.\n"
     ]
    }
   ],
   "source": [
    "convert()"
   ]
  },
  {
   "cell_type": "code",
   "execution_count": 5,
   "metadata": {
    "collapsed": false
   },
   "outputs": [
    {
     "name": "stdout",
     "output_type": "stream",
     "text": [
      "3 4\n",
      "4 3\n"
     ]
    }
   ],
   "source": [
    "# built-in functions\n",
    "# keyword or reserved word\n",
    "# identifiers (names) ∋ variables, modules, etc.\n",
    "#             begin with a letter or \"_\", followed by letters/digits/\"_\", and are case sensitive\n",
    "# expression: fragments of code that produce/calculate new data\n",
    "\n",
    "# Assignment Statements\n",
    "# Simultaneous assignment\n",
    "\n",
    "x, y = 3, 4\n",
    "print(x, y)\n",
    "x, y = y, x\n",
    "print(x, y)"
   ]
  },
  {
   "cell_type": "code",
   "execution_count": 6,
   "metadata": {
    "collapsed": false
   },
   "outputs": [
    {
     "data": {
      "text/plain": [
       "[0, 1, 2, 3, 4, 5, 6, 7, 8, 9]"
      ]
     },
     "execution_count": 6,
     "metadata": {},
     "output_type": "execute_result"
    }
   ],
   "source": [
    "# A definite loop using \"for\"\n",
    "# indentation is crucial\n",
    "\n",
    "# range(start, finish, gap) returns a range of objects\n",
    "# list() returns a list\n",
    "\n",
    "list(range(10))"
   ]
  },
  {
   "cell_type": "code",
   "execution_count": 8,
   "metadata": {
    "collapsed": false
   },
   "outputs": [
    {
     "name": "stdout",
     "output_type": "stream",
     "text": [
      "['1', '2', '3', '4', '5', '6', '7', '8', '9']\n"
     ]
    }
   ],
   "source": [
    "answer = [] # empty list\n",
    "for i in range(1,10):     # from 1 to 9 (excluding 10)\n",
    "    answer.append(str(i))    # list.append(NNN) add NNN as a last element\n",
    "print(answer)"
   ]
  },
  {
   "cell_type": "code",
   "execution_count": 10,
   "metadata": {
    "collapsed": false
   },
   "outputs": [
    {
     "data": {
      "text/plain": [
       "True"
      ]
     },
     "execution_count": 10,
     "metadata": {},
     "output_type": "execute_result"
    }
   ],
   "source": [
    "# type(arg1) shows the data type of arg1\n",
    "\n",
    "# string comparison: in the order of alphabet\n",
    "# cannot compare spring and integer but below is clearly not the same\n",
    "\"a\" != 572.0"
   ]
  },
  {
   "cell_type": "code",
   "execution_count": 11,
   "metadata": {
    "collapsed": true
   },
   "outputs": [],
   "source": [
    "# Multi-operand comparison: only compare the front and back\n",
    "\n",
    "# composite boolean expressions: not > and > or\n",
    "# evaluating other data type: 0 or empty is false, and other values are true\n",
    "\n",
    "def fact():\n",
    "\n",
    "    n = eval(input(\"Please enter a whole number: \"))\n",
    "\n",
    "    facto = 1\n",
    "    for f in range(n, 1, -1):\n",
    "        facto = facto * f\n",
    "\n",
    "    print(\"The factorial of\", n, \"is\", facto)"
   ]
  },
  {
   "cell_type": "code",
   "execution_count": 12,
   "metadata": {
    "collapsed": false
   },
   "outputs": [
    {
     "name": "stdout",
     "output_type": "stream",
     "text": [
      "Please enter a whole number: 10\n",
      "The factorial of 10 is 3628800\n"
     ]
    }
   ],
   "source": [
    "fact()"
   ]
  },
  {
   "cell_type": "code",
   "execution_count": 13,
   "metadata": {
    "collapsed": false
   },
   "outputs": [
    {
     "data": {
      "text/plain": [
       "'8'"
      ]
     },
     "execution_count": 13,
     "metadata": {},
     "output_type": "execute_result"
    }
   ],
   "source": [
    "# Type Conversion == Type Casting\n",
    "\n",
    "float(22//5)\n",
    "int(4.5)\n",
    "round(3.9)\n",
    "round(3.2)\n",
    "str(8)"
   ]
  },
  {
   "cell_type": "code",
   "execution_count": 15,
   "metadata": {
    "collapsed": false
   },
   "outputs": [
    {
     "name": "stdout",
     "output_type": "stream",
     "text": [
      "H l o B\n",
      "b B\n",
      "Hel  Bob Hello  Bob Hello Bob Hello  Hello Bo\n"
     ]
    }
   ],
   "source": [
    "# %: modulo operator\n",
    "# **: to the nth power\n",
    "\n",
    "# String Indexing\n",
    "# H  e  l  l  o     B  o  b\n",
    "# 0  1  2  3  4  5  6  7  8\n",
    "# -9 -8 -7 -6 -5 -4 -3 -2 -1\n",
    "\n",
    "greet, x = \"Hello Bob\", 8\n",
    "print(greet[0], greet[2], greet[4], greet[x - 2])\n",
    "print(greet[-1], greet[-3])\n",
    "print(greet[0:3], greet[5:9], greet[:5], greet[5:], greet[:], greet[0:-3], greet[:-1])"
   ]
  },
  {
   "cell_type": "code",
   "execution_count": 17,
   "metadata": {
    "collapsed": false
   },
   "outputs": [
    {
     "name": "stdout",
     "output_type": "stream",
     "text": [
      "ab aaa 3\n"
     ]
    }
   ],
   "source": [
    "# concatenation (+), repitition (*), length(len)\n",
    "print(\"a\" + \"b\", \"a\" * 3, len(\"a\" * 3))"
   ]
  },
  {
   "cell_type": "code",
   "execution_count": 18,
   "metadata": {
    "collapsed": true
   },
   "outputs": [],
   "source": [
    "def Name():\n",
    "    # get user's first and last names\n",
    "    first = input(\"Type your first name: \")\n",
    "    last = input(\"Type your last name: \")\n",
    "    first = first.lower()\n",
    "    last = last.lower()\n",
    "\n",
    "    # concatenate first initial with 7 chars of last name\n",
    "    print(\"your_name = \", first[0]+\". \" + last[:7])"
   ]
  },
  {
   "cell_type": "code",
   "execution_count": 19,
   "metadata": {
    "collapsed": false
   },
   "outputs": [
    {
     "name": "stdout",
     "output_type": "stream",
     "text": [
      "Type your first name: jane\n",
      "Type your last name: doe\n",
      "your_name =  j. doe\n"
     ]
    }
   ],
   "source": [
    "Name()"
   ]
  },
  {
   "cell_type": "code",
   "execution_count": 21,
   "metadata": {
    "collapsed": false
   },
   "outputs": [
    {
     "name": "stdout",
     "output_type": "stream",
     "text": [
      "['A', 'Him', 'gets', 'noticed,', 'a', 'Her', 'gets', 'ignored.', 'And', 'for', 'once,', \"we'd\", 'like', 'to', 'be', 'ignored.']\n",
      "['A Him gets noticed', ' a Her gets ignored. And for once', \" we'd like to be ignored.\"]\n",
      "['C', 'M', 'U']\n"
     ]
    }
   ],
   "source": [
    "# String Splitting Function\n",
    "\n",
    "a = \"A Him gets noticed, a Her gets ignored. And for once, we'd like to be ignored.\"\n",
    "print(a.split())\n",
    "print(a.split(\",\"))\n",
    "print(list(\"CMU\"))"
   ]
  },
  {
   "cell_type": "code",
   "execution_count": 8,
   "metadata": {
    "collapsed": false
   },
   "outputs": [
    {
     "name": "stdout",
     "output_type": "stream",
     "text": [
      "The trick is not letting the pressure keep you from taking big chances\n",
      "The Trick Is Not Letting The Pressure Keep You From Taking Big Chances\n",
      "               the trick is Not letting the pressure keep you from taking big chances               \n",
      "2\n",
      "13\n",
      "the trick is Not letting the pressure keep you from taking big chances                              \n",
      "the trick is not letting the pressure keep you from taking big chances\n",
      "the trick is Not letting the pressure prevent you from taking big chances\n",
      "25\n",
      "                              the trick is Not letting the pressure keep you from taking big chances\n",
      "['the', 'trick', 'is', 'Not', 'letting', 'the', 'pressure', 'keep', 'you', 'from', 'taking', 'big', 'chances']\n",
      "THE TRICK IS NOT LETTING THE PRESSURE KEEP YOU FROM TAKING BIG CHANCES\n",
      "number 99\n",
      "float 99.000000\n",
      "1000th roundup 99.000\n",
      "[1, 2, 3, 4]\n",
      "[1, 2, 1, 2, 1, 2]\n",
      "5\n",
      "['A', 'C', 'D', 'E']\n"
     ]
    }
   ],
   "source": [
    "# String Functions\n",
    "s = \"the trick is Not letting the pressure keep you from taking big chances\"\n",
    "print(s.capitalize())       # capitalize the first character\n",
    "print(s.title())               # 1st char + after space capitalized\n",
    "print(s.center(100))      # giving a padding\n",
    "print(s.count(\"the\"))    # count # of occurences of \"the\" in s\n",
    "print(s.find(\"Not\"))      # find first pos of \"not\"\n",
    "print(s.ljust(100))        # left justified\n",
    "print(s.lower())            # all in lowercase\n",
    "print(s.replace(\"keep\", \"prevent\")) # replace \"keep\" wth \"prevent\"\n",
    "print(s.rfind(\"the\"))     # find right pos of \"the\"\n",
    "print(s.rjust(100))        # right justified\n",
    "print(s.split())\n",
    "print(s.upper())\n",
    "\n",
    "# String Formatting\n",
    "z = 99\n",
    "print(\"number %d\" %z)\n",
    "print(\"float %f\" %z)\n",
    "print(\"1000th roundup %.3f\" %z)\n",
    "\n",
    "# List Data Type\n",
    "\n",
    "print([1, 2] + [3, 4]) # concatenate\n",
    "print([1, 2] * 3)       # repeat\n",
    "grades = ['A', 'B', 'C', 'D', 'E']\n",
    "print(len(grades))\n",
    "grades.pop(1) # that index pops out gone from the list\n",
    "print(grades)\n",
    "\n",
    "# Lists can be sequences of arbitrary values (but in order)\n",
    "# Sets: unordered sequence of data - only those data types that can be put thru hash (function)\n",
    "#    a list cannot be an element of a set"
   ]
  },
  {
   "cell_type": "code",
   "execution_count": 2,
   "metadata": {
    "collapsed": false
   },
   "outputs": [
    {
     "name": "stdout",
     "output_type": "stream",
     "text": [
      "Enter a month number (1-12): 12\n",
      "The month abbreviation is Dec.\n"
     ]
    }
   ],
   "source": [
    "# month2.py\n",
    "#    A progrma to print the month name, given its number\n",
    "#    This version uses a list as a lookup table\n",
    "\n",
    "def month():\n",
    "    months = [\"Jan\", \"Feb\", \"Mar\", \"Apr\", \"May\", \"Jun\", \"Jul\", \"Aug\", \"Sep\", \"Oct\", \"Nov\", \"Dec\"]\n",
    "    n = eval(input(\"Enter a month number (1-12): \"))\n",
    "    print(\"The month abbreviation is\", months[n-1] + \".\")\n",
    "\n",
    "month()"
   ]
  },
  {
   "cell_type": "code",
   "execution_count": 6,
   "metadata": {
    "collapsed": false
   },
   "outputs": [
    {
     "name": "stdout",
     "output_type": "stream",
     "text": [
      "() \t (1,) \t <class 'int'>\n"
     ]
    }
   ],
   "source": [
    "# Lists are mutable (i.e. they can be changed)\n",
    "# Strings are immuatble: Parts of strings cannot be changed using operations\n",
    "\n",
    "# Tuple Data Type\n",
    "\n",
    "t1 = ()\n",
    "t2 = (1, ) # element 1개짜리는 컴마를 찍어줘야 함\n",
    "t3 = (1)  # 정수로 인식\n",
    "print(t1, \"\\t\", t2, \"\\t\", type(t3))"
   ]
  },
  {
   "cell_type": "code",
   "execution_count": 7,
   "metadata": {
    "collapsed": false
   },
   "outputs": [
    {
     "name": "stdout",
     "output_type": "stream",
     "text": [
      "{1, 2, 3} {'H', 'l', 'o', 'e'}\n",
      "(1, 2, 3) 1\n"
     ]
    }
   ],
   "source": [
    "# A tuple is similar to a list but tuple is immutable and more memeory-efficient than a list\n",
    "# If a sequence does not change thruout the program, use a tuple\n",
    "# No add/drop a part inside a tuple but whole replacement is fine\n",
    "\n",
    "# With the built-in function set(), you can make a set data - but with only 1 parameter\n",
    "\n",
    "s1 = set([1, 2 , 3])\n",
    "s2 = set(\"Hello\")\n",
    "print(s1, s2) # no orders so cannot index\n",
    "print(tuple(s1), tuple(s1)[0]) # tuples you can index"
   ]
  },
  {
   "cell_type": "code",
   "execution_count": 9,
   "metadata": {
    "collapsed": false
   },
   "outputs": [
    {
     "name": "stdout",
     "output_type": "stream",
     "text": [
      "{4, 5, 6}\n",
      "{4, 5, 6}\n",
      "{1, 2, 3, 4, 5, 6, 7, 8, 9}\n",
      "{1, 2, 3, 4, 5, 6, 7, 8, 9}\n",
      "{1, 2, 3} {8, 9, 7}\n",
      "{1, 2, 3} {8, 9, 7}\n",
      "{1, 2, 3, 4, 5, 6, 9}\n",
      "{1, 2, 3, 4, 5, 6}\n",
      "{1, 3, 4, 5, 6}\n"
     ]
    }
   ],
   "source": [
    "# Set Operations\n",
    "\n",
    "s1 = set([1,2,3,4,5,6])\n",
    "s2 = set([4,5,6,7,8,9])\n",
    "\n",
    "print(s1 & s2)\n",
    "print(s1.intersection(s2)) # 교집합\n",
    "\n",
    "print(s1 | s2)\n",
    "print(s1.union(s2)) # 합집합\n",
    "\n",
    "print(s1 - s2, s2 - s1)\n",
    "print(s1.difference(s2), s2.difference(s1)) # 차집합\n",
    "\n",
    "# set → list used often to delete the duplicates\n",
    "\n",
    "s1.add(9) # add 1 value\n",
    "print(s1)\n",
    "s2 = set([1,2,3])\n",
    "s2.update([4,5,6]) # add multiple values\n",
    "print(s2)\n",
    "s2.remove(2) # no indexing, so call out the value that needs to be removed\n",
    "print(s2)"
   ]
  },
  {
   "cell_type": "code",
   "execution_count": 10,
   "metadata": {
    "collapsed": false
   },
   "outputs": [
    {
     "name": "stdout",
     "output_type": "stream",
     "text": [
      "pey 01112345678 1117\n"
     ]
    }
   ],
   "source": [
    "# Dictionary Data Type\n",
    "dic = {'name': 'pey', 'phone': '01112345678', 'birth': '1117'}\n",
    "print(dic['name'], dic['phone'], dic['birth'])"
   ]
  },
  {
   "cell_type": "code",
   "execution_count": 14,
   "metadata": {
    "collapsed": false
   },
   "outputs": [
    {
     "name": "stdout",
     "output_type": "stream",
     "text": [
      "{1: 'a', 2: 'b', 'name': 'pey', 3: [1, 2, 3]}\n",
      "{2: 'b', 'name': 'pey', 3: [1, 2, 3]}\n"
     ]
    }
   ],
   "source": [
    "# Insert and delete\n",
    "a = {1: 'a'}\n",
    "a[2] = 'b'\n",
    "a['name'] = 'pey'\n",
    "a[3] = [1,2,3]\n",
    "print(a)\n",
    "\n",
    "del a[1]\n",
    "print(a)"
   ]
  },
  {
   "cell_type": "code",
   "execution_count": 15,
   "metadata": {
    "collapsed": true
   },
   "outputs": [],
   "source": [
    "# 중복되는 key 값은 사용할 수 없음\n",
    "# key = only immutable values - list(X) tuple(O)"
   ]
  },
  {
   "cell_type": "code",
   "execution_count": 21,
   "metadata": {
    "collapsed": false
   },
   "outputs": [
    {
     "name": "stdout",
     "output_type": "stream",
     "text": [
      "What is the Celsius temperature? -2\n",
      "The temperatuer is  28.4  degrees Fahrenheit.\n",
      "Brrrrr. Be sure to dress warmly.\n"
     ]
    }
   ],
   "source": [
    "# PYTHON CONTROL STRUCTURES\n",
    "\n",
    "# convert2.py\n",
    "#    A program to convert Celsius temps to Fahrenheit\n",
    "#    This version issues heat and cold warnings\n",
    "\n",
    "def convert2():\n",
    "\tcelsius = eval(input(\"What is the Celsius temperature? \"))\n",
    "\tfahrenheit = (9/5) * celsius + 32\n",
    "\tprint(\"The temperatuer is \", fahrenheit, \" degrees Fahrenheit.\")\n",
    "\tif fahrenheit >= 90:\n",
    "\t\tprint(\"It's sizzling out there, be careful!\")\n",
    "\tif fahrenheit <= 30:\n",
    "\t\tprint(\"Brrrrr. Be sure to dress warmly.\")\n",
    "        \n",
    "convert2()"
   ]
  },
  {
   "cell_type": "code",
   "execution_count": 23,
   "metadata": {
    "collapsed": false
   },
   "outputs": [
    {
     "name": "stdout",
     "output_type": "stream",
     "text": [
      "This program finds the real solutions to a quadratic\n",
      "\n",
      "Please enter the coefficients (a, b, c): 1, 2, 1\n",
      "\n",
      "There is a double root at -1.0\n"
     ]
    }
   ],
   "source": [
    "# quadratics.py\n",
    "#    A program that computes the real roots of a quadratic equation.\n",
    "#    lllustrates use of a two-way decision\n",
    "\n",
    "import math #\tStandard Library\n",
    "def quadratics():\n",
    "    print(\"This program finds the real solutions to a quadratic\\n\")\n",
    "    a, b, c = eval(input(\"Please enter the coefficients (a, b, c): \"))\n",
    "    \n",
    "    discrim = b**2 - 4*a*c\n",
    "    if discrim < 0:\n",
    "        print(\"\\n The equation has no real roots!\")\n",
    "    elif discrim == 0:\n",
    "        root = -b / (2*a)\n",
    "        print(\"\\nThere is a double root at\", root)\n",
    "    else:\n",
    "        discRoot = math.sqrt(discrim)\n",
    "        root1 = (-b + discRoot) / (2*a)\n",
    "        root2 = (-b + discRoot) / (2*a)\n",
    "        print (\"\\nThe solutions are: \", root1, root2)\n",
    "        \n",
    "# Library ∋ functions, datatypes\n",
    "# 어떤 문제에 대해 요긴하게 쓸 수 있는 package\n",
    "\n",
    "quadratics()"
   ]
  },
  {
   "cell_type": "code",
   "execution_count": 25,
   "metadata": {
    "collapsed": false
   },
   "outputs": [
    {
     "name": "stdout",
     "output_type": "stream",
     "text": [
      "1\t2\t4\t5\t7\t8\t10\t11\t13\t14\t16\t17\t19\t20\t22\t23\t25\t26\t28\t29\t"
     ]
    }
   ],
   "source": [
    "# Loop Structures\n",
    "\n",
    "# Loop types classified by breaking condition\n",
    "# Interactive Loop: user dictates whether to continue the loop interactively\n",
    "# \t\tSentinel Loop: loop is carried on until certain conditions are met\n",
    "#\t\tEnd-of-file Loop: looped until end of the file\n",
    "#\t\tNested Loop: loop in a loop\n",
    "\n",
    "for i in range(30):\n",
    "    if not i % 3: # 3의 배수이면 continue 수행\n",
    "        continue # ignore the below and go back to the loop\n",
    "    print(i, end='\\t')"
   ]
  },
  {
   "cell_type": "code",
   "execution_count": 26,
   "metadata": {
    "collapsed": false
   },
   "outputs": [
    {
     "name": "stdout",
     "output_type": "stream",
     "text": [
      "4 8\n"
     ]
    }
   ],
   "source": [
    "x, y = 0, 0\n",
    "while(True):\n",
    "    x += 1\n",
    "    y += 2\n",
    "    if x + y >10:\n",
    "        break # if condition is true, get out of the loop - break ∈ reserved word\n",
    "print(x, y)"
   ]
  },
  {
   "cell_type": "code",
   "execution_count": 27,
   "metadata": {
    "collapsed": false
   },
   "outputs": [
    {
     "name": "stdout",
     "output_type": "stream",
     "text": [
      "Enter a number: 32\n",
      "More numbers (yes or no)? y\n",
      "Enter a number: 45\n",
      "More numbers (yes or no)? yep\n",
      "Enter a number: 76\n",
      "More numbers (yes or no)? yes\n",
      "Enter a number: 45\n",
      "More numbers (yes or no)? nah\n",
      "\n",
      "The average of the numbers is 49.5\n"
     ]
    }
   ],
   "source": [
    "# For loops are more used often, and when you use While loops, think of a break condition first\n",
    "\n",
    "# Interactive Loops\n",
    "\n",
    "def dataentry():\n",
    "    moredata = \"yes\"\n",
    "    sum, count = 0.0, 0\n",
    "    while moredata[0] == 'y':\n",
    "        x = eval(input(\"Enter a number: \"))\n",
    "        sum += x\n",
    "        count += 1\n",
    "        moredata = input(\"More numbers (yes or no)? \")\n",
    "    print(\"\\nThe average of the numbers is\", sum / count)\n",
    "\n",
    "# for문으로는 할 수 없는 코딩이겠지요!\n",
    "    \n",
    "dataentry()"
   ]
  },
  {
   "cell_type": "code",
   "execution_count": 28,
   "metadata": {
    "collapsed": false
   },
   "outputs": [
    {
     "name": "stdout",
     "output_type": "stream",
     "text": [
      "Enter a number (negative to quit) >> 32\n",
      "Enter a number (negative to quit) >> 45\n",
      "Enter a number (negative to quit) >> -1\n",
      "\n",
      "The average of the numbers is 38.5\n"
     ]
    }
   ],
   "source": [
    "# Sentinel Loops\n",
    "# average3.py\n",
    "#\t\tA program to average a set of numbers\n",
    "#\t\tIllustrates sentinel loop using negative input as sentinel\n",
    "\n",
    "def avg():\n",
    "    sum, count = 0.0, 0\n",
    "    x = eval(input(\"Enter a number (negative to quit) >> \"))\n",
    "    while x >= 0:\n",
    "        sum += x\n",
    "        count += 1\n",
    "        x = eval(input(\"Enter a number (negative to quit) >> \"))\n",
    "    print(\"\\nThe average of the numbers is\", sum / count)\n",
    "    \n",
    "avg()"
   ]
  },
  {
   "cell_type": "code",
   "execution_count": null,
   "metadata": {
    "collapsed": true
   },
   "outputs": [],
   "source": [
    "# average4.py\n",
    "#\t\tA program to average a set of numbers\n",
    "#\t\tIllustrates sentinel loop using empty string as sentinel\n",
    "\n",
    "def avg2():\n",
    "    sum, count = 0.0, 0\n",
    "    xStr = input(\"Enter a number (<Enter> to quit) >> \")\n",
    "    if eval(xStr) == 0:\n",
    "        count = 1\n",
    "    while xStr != \"\":\n",
    "        x = eval(xStr)\n",
    "        sum += x\n",
    "        count += 1\n",
    "        xStr = input(\"Enter a number (<Enter> to quit) >> \")\n",
    "    print(\"\\nThe average of the numbers is\", sum / count)\n",
    "\n",
    "avg2()"
   ]
  },
  {
   "cell_type": "code",
   "execution_count": null,
   "metadata": {
    "collapsed": true
   },
   "outputs": [],
   "source": [
    "# average6.py\n",
    "#\t\tComputes the average of numbers listed in a file\n",
    "\n",
    "def avg3():\n",
    "    fileName = input(\"What file are the numbers in? \")\n",
    "    infile = open(fileName, 'r') #'w' for write\n",
    "    sum, count = 0.0, 0\n",
    "    line = infile.readline() # file을 한 줄로 읽는 함수\n",
    "    while line != \"\": # (마지막 줄이) empty일 때\n",
    "        sum += eval(line)\n",
    "        count += 1\n",
    "        line = infile.readline() # 다시 쓰면 그 다음 줄을 읽음\n",
    "    print(\"\\nThe average of the numbers is\", sum / count)"
   ]
  },
  {
   "cell_type": "code",
   "execution_count": 9,
   "metadata": {
    "collapsed": true
   },
   "outputs": [],
   "source": [
    "# nested loops in reading lines thru a file\n",
    "\n",
    "# average7.py\n",
    "#\t\tcomputes the average of numbers listed in a file\n",
    "#\t\tworks with multiple numbers on a line\n",
    "\n",
    "import string\n",
    "\n",
    "def avg7():\n",
    "    fileName = input(\"What file are the numbers in? \")\n",
    "    infile = open(fileName, 'r')\n",
    "    sum, count = 0.0, 0\n",
    "    line = infile.readline()\n",
    "    while line != \"\":\n",
    "        for xStr in line.split(\",\"):\n",
    "            sum += eval(xStr)\n",
    "            count += 1\n",
    "        line = infile.readline()\n",
    "    print(\"\\nThe average of the numbers is\", sum/count)"
   ]
  },
  {
   "cell_type": "code",
   "execution_count": null,
   "metadata": {
    "collapsed": true
   },
   "outputs": [],
   "source": [
    "# Pythong Functions and Modules\n",
    "\n"
   ]
  }
 ],
 "metadata": {
  "kernelspec": {
   "display_name": "Python 3",
   "language": "python",
   "name": "python3"
  },
  "language_info": {
   "codemirror_mode": {
    "name": "ipython",
    "version": 3
   },
   "file_extension": ".py",
   "mimetype": "text/x-python",
   "name": "python",
   "nbconvert_exporter": "python",
   "pygments_lexer": "ipython3",
   "version": "3.6.0"
  }
 },
 "nbformat": 4,
 "nbformat_minor": 2
}
