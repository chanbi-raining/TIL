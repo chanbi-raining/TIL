{
 "cells": [
  {
   "cell_type": "code",
   "execution_count": 1,
   "metadata": {},
   "outputs": [],
   "source": [
    "# What is programming?\n",
    "\n",
    "# 1. The real world problem → 2. Abstract Problem → 3. Problem representation \n",
    "# → 4. Solve the problem with Algorithm based on Computational thinking\n",
    "\n",
    "# Data Types\n",
    "\n",
    "# Basic: integer, float, boolean, char/string\n",
    "# Advanced: list, tuple, dictionary, set\n",
    "# list = [3, 4, 5], tuple = (3, 4, 5), set = {3, 4, 5}\n",
    "# User-defined (Classes)\n",
    "# Library\n",
    "\n",
    "# Waterfall SW Development Model\n",
    "\n",
    "# Requirements / Analysis / Design / Programming / Ingegration / Testing\n",
    "# OOP's primary concern = Analysis & Design\n",
    "# Control Oriented Programing's primary concern = Programming & Integration\n",
    "\n",
    "# Programming languages\n",
    "\n",
    "# composed with basic grammar + libraries\n",
    "# Compiled programs: run faster & more accurate (i.e. C & Java) VS Interpreted programs: more portable & flexible (i.e. Python)\n",
    "# IDE (Interpreted Development Environment) = UI added to help the programmers"
   ]
  },
  {
   "cell_type": "code",
   "execution_count": 2,
   "metadata": {},
   "outputs": [],
   "source": [
    "# Ch2: Python Tutorial\n",
    "\n",
    "def convert():\n",
    "\tcelsius = eval(input(\"What is the Celsius temperature? \"))\n",
    "\tfahrenheit = (9/5) * celsius + 32\n",
    "\tprint(\"The temperatuer is \", fahrenheit, \" degrees Fahrenheit.\")\n",
    "    \n",
    "# the type of input value is string - thus in need of eval to calculate\n",
    "# eval converts string into integer"
   ]
  },
  {
   "cell_type": "code",
   "execution_count": 3,
   "metadata": {},
   "outputs": [
    {
     "name": "stdout",
     "output_type": "stream",
     "text": [
      "What is the Celsius temperature? 0\n",
      "The temperatuer is  32.0  degrees Fahrenheit.\n"
     ]
    }
   ],
   "source": [
    "convert()"
   ]
  },
  {
   "cell_type": "code",
   "execution_count": 4,
   "metadata": {},
   "outputs": [
    {
     "name": "stdout",
     "output_type": "stream",
     "text": [
      "What is the Celsius temperature? 100\n",
      "The temperatuer is  212.0  degrees Fahrenheit.\n"
     ]
    }
   ],
   "source": [
    "convert()"
   ]
  },
  {
   "cell_type": "code",
   "execution_count": 5,
   "metadata": {},
   "outputs": [
    {
     "name": "stdout",
     "output_type": "stream",
     "text": [
      "3 4\n",
      "4 3\n"
     ]
    }
   ],
   "source": [
    "# built-in functions\n",
    "# keyword or reserved word\n",
    "# identifiers (names) ∋ variables, modules, etc.\n",
    "#             begin with a letter or \"_\", followed by letters/digits/\"_\", and are case sensitive\n",
    "# expression: fragments of code that produce/calculate new data\n",
    "\n",
    "# Assignment Statements\n",
    "# Simultaneous assignment\n",
    "\n",
    "x, y = 3, 4\n",
    "print(x, y)\n",
    "x, y = y, x\n",
    "print(x, y)"
   ]
  },
  {
   "cell_type": "code",
   "execution_count": 6,
   "metadata": {},
   "outputs": [
    {
     "data": {
      "text/plain": [
       "[0, 1, 2, 3, 4, 5, 6, 7, 8, 9]"
      ]
     },
     "execution_count": 6,
     "metadata": {},
     "output_type": "execute_result"
    }
   ],
   "source": [
    "# A definite loop using \"for\"\n",
    "# indentation is crucial\n",
    "\n",
    "# range(start, finish, gap) returns a range of objects\n",
    "# list() returns a list\n",
    "\n",
    "list(range(10))"
   ]
  },
  {
   "cell_type": "code",
   "execution_count": 8,
   "metadata": {},
   "outputs": [
    {
     "name": "stdout",
     "output_type": "stream",
     "text": [
      "['1', '2', '3', '4', '5', '6', '7', '8', '9']\n"
     ]
    }
   ],
   "source": [
    "answer = [] # empty list\n",
    "for i in range(1,10):     # from 1 to 9 (excluding 10)\n",
    "    answer.append(str(i))    # list.append(NNN) add NNN as a last element\n",
    "print(answer)"
   ]
  },
  {
   "cell_type": "code",
   "execution_count": 10,
   "metadata": {},
   "outputs": [
    {
     "data": {
      "text/plain": [
       "True"
      ]
     },
     "execution_count": 10,
     "metadata": {},
     "output_type": "execute_result"
    }
   ],
   "source": [
    "# type(arg1) shows the data type of arg1\n",
    "\n",
    "# string comparison: in the order of alphabet\n",
    "# cannot compare spring and integer but below is clearly not the same\n",
    "\"a\" != 572.0"
   ]
  },
  {
   "cell_type": "code",
   "execution_count": 11,
   "metadata": {},
   "outputs": [],
   "source": [
    "# Multi-operand comparison: only compare the front and back\n",
    "\n",
    "# composite boolean expressions: not > and > or\n",
    "# evaluating other data type: 0 or empty is false, and other values are true\n",
    "\n",
    "def fact():\n",
    "\n",
    "    n = eval(input(\"Please enter a whole number: \"))\n",
    "\n",
    "    facto = 1\n",
    "    for f in range(n, 1, -1):\n",
    "        facto = facto * f\n",
    "\n",
    "    print(\"The factorial of\", n, \"is\", facto)"
   ]
  },
  {
   "cell_type": "code",
   "execution_count": 12,
   "metadata": {},
   "outputs": [
    {
     "name": "stdout",
     "output_type": "stream",
     "text": [
      "Please enter a whole number: 10\n",
      "The factorial of 10 is 3628800\n"
     ]
    }
   ],
   "source": [
    "fact()"
   ]
  },
  {
   "cell_type": "code",
   "execution_count": 13,
   "metadata": {},
   "outputs": [
    {
     "data": {
      "text/plain": [
       "'8'"
      ]
     },
     "execution_count": 13,
     "metadata": {},
     "output_type": "execute_result"
    }
   ],
   "source": [
    "# Type Conversion == Type Casting\n",
    "\n",
    "float(22//5)\n",
    "int(4.5)\n",
    "round(3.9)\n",
    "round(3.2)\n",
    "str(8)"
   ]
  },
  {
   "cell_type": "code",
   "execution_count": 15,
   "metadata": {},
   "outputs": [
    {
     "name": "stdout",
     "output_type": "stream",
     "text": [
      "H l o B\n",
      "b B\n",
      "Hel  Bob Hello  Bob Hello Bob Hello  Hello Bo\n"
     ]
    }
   ],
   "source": [
    "# %: modulo operator\n",
    "# **: to the nth power\n",
    "\n",
    "# String Indexing\n",
    "# H  e  l  l  o     B  o  b\n",
    "# 0  1  2  3  4  5  6  7  8\n",
    "# -9 -8 -7 -6 -5 -4 -3 -2 -1\n",
    "\n",
    "greet, x = \"Hello Bob\", 8\n",
    "print(greet[0], greet[2], greet[4], greet[x - 2])\n",
    "print(greet[-1], greet[-3])\n",
    "print(greet[0:3], greet[5:9], greet[:5], greet[5:], greet[:], greet[0:-3], greet[:-1])"
   ]
  },
  {
   "cell_type": "code",
   "execution_count": 17,
   "metadata": {},
   "outputs": [
    {
     "name": "stdout",
     "output_type": "stream",
     "text": [
      "ab aaa 3\n"
     ]
    }
   ],
   "source": [
    "# concatenation (+), repitition (*), length(len)\n",
    "print(\"a\" + \"b\", \"a\" * 3, len(\"a\" * 3))"
   ]
  },
  {
   "cell_type": "code",
   "execution_count": 18,
   "metadata": {},
   "outputs": [],
   "source": [
    "def Name():\n",
    "    # get user's first and last names\n",
    "    first = input(\"Type your first name: \")\n",
    "    last = input(\"Type your last name: \")\n",
    "    first = first.lower()\n",
    "    last = last.lower()\n",
    "\n",
    "    # concatenate first initial with 7 chars of last name\n",
    "    print(\"your_name = \", first[0]+\". \" + last[:7])"
   ]
  },
  {
   "cell_type": "code",
   "execution_count": 19,
   "metadata": {},
   "outputs": [
    {
     "name": "stdout",
     "output_type": "stream",
     "text": [
      "Type your first name: jane\n",
      "Type your last name: doe\n",
      "your_name =  j. doe\n"
     ]
    }
   ],
   "source": [
    "Name()"
   ]
  },
  {
   "cell_type": "code",
   "execution_count": 21,
   "metadata": {},
   "outputs": [
    {
     "name": "stdout",
     "output_type": "stream",
     "text": [
      "['A', 'Him', 'gets', 'noticed,', 'a', 'Her', 'gets', 'ignored.', 'And', 'for', 'once,', \"we'd\", 'like', 'to', 'be', 'ignored.']\n",
      "['A Him gets noticed', ' a Her gets ignored. And for once', \" we'd like to be ignored.\"]\n",
      "['C', 'M', 'U']\n"
     ]
    }
   ],
   "source": [
    "# String Splitting Function\n",
    "\n",
    "a = \"A Him gets noticed, a Her gets ignored. And for once, we'd like to be ignored.\"\n",
    "print(a.split())\n",
    "print(a.split(\",\"))\n",
    "print(list(\"CMU\"))"
   ]
  },
  {
   "cell_type": "code",
   "execution_count": null,
   "metadata": {},
   "outputs": [],
   "source": [
    "# String Functions"
   ]
  }
 ],
 "metadata": {
  "kernelspec": {
   "display_name": "Python 3",
   "language": "python",
   "name": "python3"
  },
  "language_info": {
   "codemirror_mode": {
    "name": "ipython",
    "version": 3
   },
   "file_extension": ".py",
   "mimetype": "text/x-python",
   "name": "python",
   "nbconvert_exporter": "python",
   "pygments_lexer": "ipython3",
   "version": "3.6.5"
  }
 },
 "nbformat": 4,
 "nbformat_minor": 2
}
